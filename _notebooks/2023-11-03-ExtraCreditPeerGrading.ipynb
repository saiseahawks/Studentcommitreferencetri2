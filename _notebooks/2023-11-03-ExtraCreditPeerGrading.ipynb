{
 "cells": [
  {
   "cell_type": "markdown",
   "metadata": {},
   "source": [
    "---\n",
    "layout: post\n",
    "title: Extra Credit Peer Grading\n",
    "description: Peer Grades for NATM\n",
    "courses: { compsci: {week: 12} }\n",
    "type: tangibles\n",
    "---"
   ]
  },
  {
   "cell_type": "markdown",
   "metadata": {},
   "source": [
    "(Extra Credit For Aditya D, Aditya R, Sai T, Tanav K, Timo A)\n",
    "Criteria/Key Features:\n",
    "Frontend - Done\n",
    "Backend - Done\n",
    "API - Done\n",
    "Agile - Done\n",
    "HOOK:\n",
    "Points: 4.0\n",
    "Reason:\n",
    "Loved the weights on different planets, a great hook!\n",
    "\n",
    "KNOWLEDGE:\n",
    "Points: 4.0\n",
    "Reason:\n",
    "Lots of knowledge is shown based on the content, and amazing features show the full understanding of API usage.\n",
    "\n",
    "VALUE:\n",
    "Points: 0.9\n",
    "Reason:\n",
    "Love the work, was interesting to see all the different features incorporated within the website. While it might not be useful to an average day person, it was fun to look at.\n",
    "\n",
    "8.9/9\n",
    "![Alt text](https://user-images.githubusercontent.com/88518768/280181003-d1c24a21-5851-4546-8ffa-a99ece9ce64e.png \"a title\")"
   ]
  },
  {
   "cell_type": "markdown",
   "metadata": {},
   "source": [
    "(Extra Credit For Aditya D, Aditya R, Sai T, Tanav K, Timo A)\n",
    "Criteria/Key Features:\n",
    "Frontend - Done\n",
    "Backend - Done\n",
    "API - Done\n",
    "Agile - Done\n",
    "HOOK:\n",
    "Points: 4.0\n",
    "Reason:\n",
    "Nice hook, giving us a little bit of an idea of what we can do on the site was a great idea for a landing page!\n",
    "\n",
    "KNOWLEDGE:\n",
    "Points: 4.0\n",
    "Reason: The team showed lots of understanding over the project, and was able to explain how to use their website as well as some of the background code.\n",
    "\n",
    "VALUE:\n",
    "Points: 0.95\n",
    "Reason:\n",
    "Smart idea, definitely an intriguing project that anyone can use to help with stocks.\n",
    "![Alt text](https://user-images.githubusercontent.com/88518768/280181047-17faa428-8365-450f-8547-522e137cd0d8.png \"a title\")"
   ]
  },
  {
   "cell_type": "markdown",
   "metadata": {},
   "source": [
    "Criteria/Key Features:\n",
    "Frontend - Done\n",
    "Backend - Done\n",
    "API - Done\n",
    "Agile - Done\n",
    "HOOK:\n",
    "Points: 3.5\n",
    "Reason:\n",
    "Underwhelming but inclusive and intriguing.\n",
    "\n",
    "KNOWLEDGE:\n",
    "Points: 4.0\n",
    "Reason:\n",
    "Knew everything like the back of their hands, very knowledgeable.\n",
    "\n",
    "VALUE:\n",
    "Points: 0.75\n",
    "Reason:\n",
    "Nothing too surprising and somewhat of a basic website.\n",
    "\n",
    "overall: 8.25/9\n",
    "![Alt text](https://user-images.githubusercontent.com/88518768/280373885-aa3d4408-90f7-4218-a2da-696c79193ef0.png \"a title\")"
   ]
  }
 ],
 "metadata": {
  "language_info": {
   "name": "python"
  },
  "orig_nbformat": 4
 },
 "nbformat": 4,
 "nbformat_minor": 2
}
