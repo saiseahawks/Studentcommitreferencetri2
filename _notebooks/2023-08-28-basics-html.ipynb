{
 "cells": [
  {
   "cell_type": "markdown",
   "metadata": {},
   "source": [
    "---\n",
    "layout: post\n",
    "hide: True\n",
    "title: Basics of HTML Guide\n",
    "description: An introduction to basic HTML, and resources to learn more.\n",
    "type: ccc\n",
    "permalink: /basics/html\n",
    "---"
   ]
  },
  {
   "cell_type": "raw",
   "metadata": {},
   "source": [
    "{% include nav_basics.html %}\n"
   ]
  },
  {
   "cell_type": "markdown",
   "metadata": {},
   "source": [
    "\n",
    "# How does HTML work?\n",
    "Similar function to Markdown, syntax defines how stuff should be displayed\n",
    "- HTML is based on beginning and closing tags `<tagname>content</tagname>`\n",
    "  - Note the \"/\" on the ending or closing tag of the pair"
   ]
  },
  {
   "cell_type": "markdown",
   "metadata": {},
   "source": [
    "## Compare markdown to html below\n",
    "This below example shows comparison of a [heading](https://www.w3schools.com/html/html_headings.asp) and [paragraph](https://www.w3schools.com/html/html_paragraphs.asp).  Click on links to see many more HTML examples."
   ]
  },
  {
   "cell_type": "code",
   "execution_count": 8,
   "metadata": {},
   "outputs": [
    {
     "data": {
      "text/markdown": [
       "\n",
       "### Markdown: This is a Heading\n",
       "\n",
       "This is a paragraph\n"
      ],
      "text/plain": [
       "<IPython.core.display.Markdown object>"
      ]
     },
     "metadata": {},
     "output_type": "display_data"
    }
   ],
   "source": [
    "%%markdown\n",
    "\n",
    "### Markdown: This is a Heading\n",
    "\n",
    "This is a paragraph\n"
   ]
  },
  {
   "cell_type": "code",
   "execution_count": 9,
   "metadata": {
    "vscode": {
     "languageId": "html"
    }
   },
   "outputs": [
    {
     "data": {
      "text/html": [
       "\n",
       "<h3>HTML: This is a Heading</h3>\n",
       "<p>This is a paragraph.</p>\n"
      ],
      "text/plain": [
       "<IPython.core.display.HTML object>"
      ]
     },
     "metadata": {},
     "output_type": "display_data"
    }
   ],
   "source": [
    "%%html\n",
    "\n",
    "<h3>HTML: This is a Heading</h3>\n",
    "<p>This is a paragraph.</p>"
   ]
  },
  {
   "cell_type": "markdown",
   "metadata": {},
   "source": [
    "# Attributes\n",
    "- Learn about [attributes](https://www.w3schools.com/html/html_attributes.asp) \n",
    "- Tags can have additional info in the form of attributes\n",
    "- Attributes usually come in name/value pairs like: name=\"value\"\n",
    "\n",
    "```html\n",
    "<tagname attribute_name=\"attribute_value\" another_attribute=\"another_value\">inner html text</tagname>\n",
    "```\n",
    "\n",
    "- href example with attribute for web link and inner html to describe link\n",
    "\n",
    "```html\n",
    "<a href=\"https://www.w3schools.com/html/default.asp\">Visit W3Schools HTML Page</a>\n",
    "```"
   ]
  },
  {
   "cell_type": "markdown",
   "metadata": {},
   "source": [
    "## Sample Markdown vs HTML Tags\n",
    "Image Tag - Markdown\n",
    "\n",
    "```md\n",
    "![describe image](link to image)\n",
    "```\n",
    "\n",
    "Image Tag - HTML\n",
    "\n",
    "```html\n",
    "<!-- no content so no end tag, width/height is optional (in pixels) -->\n",
    "<img alt=\"describe image\" src=\"link to image\" width=\"100\" height=\"200\">\n",
    "```\n",
    "\n",
    "Link Tag - Markdown\n",
    "\n",
    "```md\n",
    "[link text](link)\n",
    "```\n",
    "\n",
    "Link Tag - HTML\n",
    "\n",
    "```html\n",
    "<a href=\"link\">link text</a>\n",
    "```\n",
    "\n",
    "Bolded Text - Markdown\n",
    "\n",
    "```md\n",
    "**Bolded Text**\n",
    "```\n",
    "\n",
    "Bolded Text - HTML\n",
    "\n",
    "```md\n",
    "<strong>Bolded Text</strong>\n",
    "```\n",
    "\n",
    "Italic Text - Markdown\n",
    "\n",
    "```md\n",
    "*Italic Text*\n",
    "```\n",
    "\n",
    "Italic Text - HTML\n",
    "\n",
    "```md\n",
    "<i>Italic Text</i>\n",
    "```"
   ]
  },
  {
   "cell_type": "markdown",
   "metadata": {},
   "source": [
    "# More tags (not really in markdown)\n",
    "P tag (just represeants a paragraph/normal text)\n",
    "\n",
    "```html\n",
    "<p>This is a paragraph</p>\n",
    "```\n",
    "\n",
    "Button\n",
    "\n",
    "```html\n",
    "<button>some button text</button>\n",
    "```\n",
    "\n",
    "Div (groups together related content)\n",
    "\n",
    "```html\n",
    "<!-- first information -->\n",
    "<div>\n",
    "    <!-- notice how tags can be put INSIDE eachother -->\n",
    "    <p>This is the first paragarph of section 1</p>\n",
    "    <p>This is the second paragraph of section 1</p>\n",
    "</div>\n",
    "\n",
    "<!-- second information -->\n",
    "<div>\n",
    "    <!-- notice how tags can be put INSIDE eachother -->\n",
    "    <p>This is the first paragarph of section 2</p>\n",
    "    <p>This is the second paragraph of section 2</p>\n",
    "</div>\n",
    "```\n",
    "\n"
   ]
  },
  {
   "cell_type": "markdown",
   "metadata": {},
   "source": [
    "# Resources\n",
    "- https://www.w3schools.com/html/default.asp\n",
    "- I will show a demo of how to find information on this website"
   ]
  },
  {
   "cell_type": "markdown",
   "metadata": {},
   "source": [
    "# HTML Hacks\n",
    "- Below is a wireframe for an HTML element you will create. A wireframe is a rough visual representation of HTML elements on a page and isn't necessarily to scale or have the exact styling that the final HTML will have. Using the syntax above, try to create an HTML snippet that corresponds to the below wireframe.\n",
    "- The \"a tags\" can contain any links that you want\n",
    "\n",
    "![wireframe for html hacks]({{ site.baseurl }}/images/wireframe.png)"
   ]
  },
  {
   "cell_type": "code",
   "execution_count": 11,
   "metadata": {
    "vscode": {
     "languageId": "html"
    }
   },
   "outputs": [
    {
     "data": {
      "text/html": [
       "<html lang=\"eng-US\">\n",
       "\n",
       "<div>\n",
       "    <h2> Seattle Seahawls</h2>\n",
       "   \n",
       "    <p><strong> Team Background</strong> \n",
       "\n",
       "        <br><br>\n",
       "        The Seattle Seahawks are an NFL team from the city of Seattle. They were founded in 1976 and joined the NFC West Division. Their main rivals are the San Fransicso 49ers and the Los Angeles Rams.\n",
       "        <br><br>\n",
       "    </p>\n",
       "\n",
       "\n",
       "    <button> Main Players<br><br>\n",
       "            \n",
       "            1. Geno Smith<br>\n",
       "            2. DK Metcalf<br>\n",
       "            3. Kenneth Walker III <br>\n",
       "            4. Tyler Lockett<br>\n",
       "            5. Bobby Wagner<br>\n",
       "            6. Tariq Woolen<br>\n",
       "            \n",
       "            \n",
       "    </button>\n",
       "    <br>\n",
       "    <button onclick=\"goToSeahawksWebsite()\">Go to Seahawks Website</button>\n",
       "\n",
       "    <script>\n",
       "        function goToSeahawksWebsite() {\n",
       "            // Redirect to the Interstellar Wikipedia page\n",
       "            window.location.href = \"https://www.seahawks.com/\";\n",
       "        }\n",
       "</script>\n",
       "\n",
       "</div>\n",
       "<br>\n",
       "<center>\n",
       "    <img src=\"https://seahawkswire.usatoday.com/wp-content/uploads/sites/61/2023/05/SEA_2023_schedule-1.png?w=1000&h=600&crop=1\" alt=\"The_Seahawks_Schedule_poster\" height=\"320\" width=\"900\"> </center>\n",
       "    </center>\n",
       "<br><br>\n",
       "<div>\n",
       "\n",
       "    <h2>Miami Dolphins</h2>\n",
       "    <center>\n",
       "    <img src=\"https://wallpapercave.com/wp/wp11892554.jpg\" height=\"320\" width=\"900\"> </center>\n",
       "\n",
       "    <a href=\"https://twitter.com/MiamiDolphins\">Dolphins: Twitter</a><br>\n",
       "    <a href=\"https://www.miamidolphins.com/\">Dolphins: Team Website</a>\n",
       "\n",
       "    <br><br>\n",
       "     \n",
       "    <p> <strong> Team Background</strong>\n",
       "        <br><br>\n",
       "        The Miami Dolphins are currently one of the best teams in the NFL right now. The are number on in the league and recently beat the Denver Broncos 70-20. The best players on the Miami Dolphins are Tyreek Hill, Tua Tagovailoa, and Jaylen Waddle</p>\n",
       "        <br>\n",
       "    \n",
       "        \n",
       "</div>\n",
       "</html>\n",
       "<!-- put your HTML code in this cell, Make sure to press the Run button to see your results below -->\n"
      ],
      "text/plain": [
       "<IPython.core.display.HTML object>"
      ]
     },
     "metadata": {},
     "output_type": "display_data"
    }
   ],
   "source": [
    "%%html\n",
    "<html lang=\"eng-US\">\n",
    "\n",
    "<div>\n",
    "    <h2> Seattle Seahawls</h2>\n",
    "   \n",
    "    <p><strong> Team Background</strong> \n",
    "\n",
    "        <br><br>\n",
    "        The Seattle Seahawks are an NFL team from the city of Seattle. They were founded in 1976 and joined the NFC West Division. Their main rivals are the San Fransicso 49ers and the Los Angeles Rams.\n",
    "        <br><br>\n",
    "    </p>\n",
    "\n",
    "\n",
    "    <button> Main Players<br><br>\n",
    "            \n",
    "            1. Geno Smith<br>\n",
    "            2. DK Metcalf<br>\n",
    "            3. Kenneth Walker III <br>\n",
    "            4. Tyler Lockett<br>\n",
    "            5. Bobby Wagner<br>\n",
    "            6. Tariq Woolen<br>\n",
    "            \n",
    "            \n",
    "    </button>\n",
    "    <br>\n",
    "    <button onclick=\"goToSeahawksWebsite()\">Go to Seahawks Website</button>\n",
    "\n",
    "    <script>\n",
    "        function goToSeahawksWebsite() {\n",
    "            // Redirect to the Interstellar Wikipedia page\n",
    "            window.location.href = \"https://www.seahawks.com/\";\n",
    "        }\n",
    "</script>\n",
    "\n",
    "</div>\n",
    "<br>\n",
    "<center>\n",
    "    <img src=\"https://seahawkswire.usatoday.com/wp-content/uploads/sites/61/2023/05/SEA_2023_schedule-1.png?w=1000&h=600&crop=1\" alt=\"The_Seahawks_Schedule_poster\" height=\"320\" width=\"900\"> </center>\n",
    "    </center>\n",
    "<br><br>\n",
    "<div>\n",
    "\n",
    "    <h2>Miami Dolphins</h2>\n",
    "    <center>\n",
    "    <img src=\"https://wallpapercave.com/wp/wp11892554.jpg\" height=\"320\" width=\"900\"> </center>\n",
    "\n",
    "    <a href=\"https://twitter.com/MiamiDolphins\">Dolphins: Twitter</a><br>\n",
    "    <a href=\"https://www.miamidolphins.com/\">Dolphins: Team Website</a>\n",
    "\n",
    "    <br><br>\n",
    "     \n",
    "    <p> <strong> Team Background</strong>\n",
    "        <br><br>\n",
    "        The Miami Dolphins are currently one of the best teams in the NFL right now. The are number on in the league and recently beat the Denver Broncos 70-20. The best players on the Miami Dolphins are Tyreek Hill, Tua Tagovailoa, and Jaylen Waddle</p>\n",
    "        <br>\n",
    "    \n",
    "        \n",
    "</div>\n",
    "</html>\n",
    "<!-- put your HTML code in this cell, Make sure to press the Run button to see your results below -->"
   ]
  }
 ],
 "metadata": {
  "kernelspec": {
   "display_name": "Python 3",
   "language": "python",
   "name": "python3"
  },
  "language_info": {
   "codemirror_mode": {
    "name": "ipython",
    "version": 3
   },
   "file_extension": ".py",
   "mimetype": "text/x-python",
   "name": "python",
   "nbconvert_exporter": "python",
   "pygments_lexer": "ipython3",
   "version": "3.11.4"
  },
  "orig_nbformat": 4
 },
 "nbformat": 4,
 "nbformat_minor": 2
}
