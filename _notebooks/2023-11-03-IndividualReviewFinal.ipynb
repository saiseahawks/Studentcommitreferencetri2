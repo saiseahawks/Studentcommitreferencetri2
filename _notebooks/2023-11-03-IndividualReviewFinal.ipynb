{
 "cells": [
  {
   "cell_type": "markdown",
   "metadata": {},
   "source": [
    "---\n",
    "layout: post\n",
    "title: Individual Tri 2 Review\n",
    "description: A Summary of my learning this trimester\n",
    "courses: { compsci: {week: 12} }\n",
    "type: tangibles\n",
    "---"
   ]
  },
  {
   "cell_type": "markdown",
   "metadata": {},
   "source": [
    "**Tri 1 Review**\n",
    "\n",
    "In the initial phase, I achieved significant progress on the frontend, collaborating with a partner to create simple games and deepen my understanding of JavaScript. I began by coding quizzes and basic games, later exploring existing game code for inspiration. This exploration led to the development of a guessing game involving elements from a soccer penalty kick. Further learning from tutorials contributed to my involvement in a passion project focused on frontend and backend development. The project aimed to create a platform allowing users to rent vehicles, with my main contributions focusing on frontend structuring and integrating backend processes for pulling data storage. This dual involvement in frontend and backend work provided a comprehensive learning experience, particularly in operations regarding linking the frontend to  the database.\n",
    "\n",
    "**Final Project Overview**\n",
    "\n",
    "Our final project is a car rental website that allows users to select from our arsenal of performance and luxury cars for rental. Our info button extracts details from a backend API and outputs results in the frontend webpage about the specs of the vehicle that the customer is interested in. I was working with the frontend side of the project, but I also helped out with configuring and debugging the backend.\n",
    "\n",
    "[Link to The Project](https://github.com/tanav-kambhampati/Flask-Server-Front-End)\n"
   ]
  },
  {
   "cell_type": "markdown",
   "metadata": {},
   "source": [
    "**Overall Summary:**\n",
    "\n",
    "Team Project\n",
    "- Front End Framework and design\n",
    "- Organizer of Data correlated to vehicles\n",
    "- Created Fetch and linked backend and API to display information and interact with the front end\n",
    "\n",
    "What I Learned\n",
    "- Understanding of how languages work together to create code\n",
    "- How APIs can fetch data and be used for multiple functions when is comes to storing information\n",
    "- Different algorithms and teqniques when coding"
   ]
  },
  {
   "cell_type": "markdown",
   "metadata": {},
   "source": [
    "**Tri 2 Review**\n",
    "\n",
    "At the beginning of the trimester, my team and I worked on a binary project. Within the team, we divided tasks, and my focus was primarily on a binary conversion for colors, and the image converter. I researched the color conversion and  binary algorithms, and resulted creatin the main structure for the rest of my team to work on. Other team members finished the game and binary clock aspects of our project. Looking forward to our current project, which involves an online webcreator for games, my emphasis will shift towards backend developmen while still contributing majorly to the front end.\n"
   ]
  },
  {
   "cell_type": "markdown",
   "metadata": {},
   "source": [
    "[Team Teach Grading](https://github.com/orgs/nighthawkcoders/projects/3/views/1?pane=issue&itemId=49167549)"
   ]
  },
  {
   "cell_type": "markdown",
   "metadata": {},
   "source": [
    "**College Board Grading**\n",
    "\n",
    "SCORE : 64/67\n",
    "Questions Wrong: #30, #62, #65\n",
    "\n",
    "        - 30  \n",
    "                Question Answer:\n",
    "![image](/Users/saitalisetty/vscode/student/_site/Screenshot 2024-01-08 at 10.36.04 PM.png)\n",
    "\n",
    "                Explanation: Answer C. Incorrect. For example, if n is initially 5, then the first IF condition will be true and n will be incremented by 1. The next IF condition will also be true because n is at least 1. The next IF condition will be false because n is less than 30. The next IF condition will be false because n is less than 10. Therefore, \"too low\" will be displayed.\n",
    "        - 62\n",
    "                Question Answer:\n",
    "![image](/Users/saitalisetty/vscode/student/_site/Screenshot 2024-01-08 at 10.41.19 PM.png)\n",
    "\n",
    "                Explanation: I was supposed answer two answers not just one. I need to read the directions and pay attention.\n",
    "        - 65    \n",
    "                Question Answer:\n",
    "\n",
    "![image](/Users/saitalisetty/vscode/student/_site/Screenshot 2024-01-08 at 10.44.27 PM.png)\n",
    "                \n",
    "                Explanation: I was supposed answer two answers not just one. I need to read the directions and pay attention.\n",
    "\n",
    "[Link to Quiz](https://apclassroom.collegeboard.org/103/assessments/results/55303670/performance)"
   ]
  }
 ],
 "metadata": {
  "kernelspec": {
   "display_name": "Python 3",
   "language": "python",
   "name": "python3"
  },
  "language_info": {
   "codemirror_mode": {
    "name": "ipython",
    "version": 3
   },
   "file_extension": ".py",
   "mimetype": "text/x-python",
   "name": "python",
   "nbconvert_exporter": "python",
   "pygments_lexer": "ipython3",
   "version": "3.11.4"
  },
  "orig_nbformat": 4
 },
 "nbformat": 4,
 "nbformat_minor": 2
}
