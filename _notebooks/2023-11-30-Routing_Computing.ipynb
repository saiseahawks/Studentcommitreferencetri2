{
 "cells": [
  {
   "cell_type": "markdown",
   "metadata": {},
   "source": [
    "---\n",
    "toc: true\n",
    "comments: false\n",
    "layout: post\n",
    "title: Routing and Computing\n",
    "description: Collegeboard Big Idea 5.1 Beneficial and Harmful Effects student lesson presented by Team WRONG (Will, Rayyan, Jason, Nathan, and Grayson)\n",
    "type: hacks\n",
    "courses: { compsci: {week: 15} }\n",
    "---"
   ]
  },
  {
   "cell_type": "markdown",
   "metadata": {},
   "source": [
    "Question 1: What is parallel computing?\n",
    "\n",
    "        Parallel computing is a type of computation in which many calculations or processes are carried out simultaneously.\n",
    "Question 2: If there is a computer with 3 cores that can each take one task, and the tasks are 25ms, 632ms, and 100ms in run time respectively, how long will the program take to run?\n",
    "\n",
    "        In parallel computing, the time taken is determined by the longest-running task since all tasks can be performed concurrently so it would be 636ms\n",
    "Question 3: Is sequential or parallel computing more efficient, and why?\n",
    "\n",
    "        If you are trying to do very complex tasks then parallel computing is more efficient since it can use multiple processors and run the task quicker. If you are trying to do very simple tasks then parallel computing will be way to over capable and is inefficient whereas you could use sequential computing which is powerful enough to get the job done and is more efficient.\n",
    "Question 4: What is the term called when a network has multiple paths leading up to one destination? (Used in fault-tolerant systems)\n",
    "\n",
    "        The term for a network with multiple paths leading to one destination, especially in the context of fault-tolerant systems, is often referred to as \"redundancy\" or \"redundant paths.\"  "
   ]
  }
 ],
 "metadata": {
  "language_info": {
   "name": "python"
  }
 },
 "nbformat": 4,
 "nbformat_minor": 2
}
