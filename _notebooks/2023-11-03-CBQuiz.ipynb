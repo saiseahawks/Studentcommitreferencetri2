{
 "cells": [
  {
   "cell_type": "markdown",
   "metadata": {},
   "source": [
    "---\n",
    "layout: post\n",
    "title: College Board Quiz Review\n",
    "description: A review of my college board quiz\n",
    "courses: { compsci: {week: 12} }\n",
    "type: tangibles\n",
    "---"
   ]
  },
  {
   "cell_type": "markdown",
   "metadata": {},
   "source": [
    "**Quiz Score:** 64/66\n",
    "\n",
    "Problems Wrong\n",
    "\n",
    "1. The following figures represent different ways of configuring a network of physically linked computers labeled P, Q, R, and S. A line between two computers indicates that the computers can communicate directly with each other. In which configuration is it NOT possible to have redundant routing between computers P and S?\n",
    "![alt text](</Users/saitalisetty/vscode/student/Screenshot 2023-11-05 at 6.41.12 PM.png>)\n",
    "Skill Needed to Practice: 1.D\n",
    "Videos to Watch: \n",
    "4.2: Daily Video 1\n",
    "4.2: Daily Video 2\n",
    "\n",
    "2. A computer program uses 4 bits to represent nonnegative integers. Which of the following statements describe a possible result when the program uses this number representation?\n",
    "\n",
    "I. The operation 4 plus 8 will result in an overflow error.\n",
    "\n",
    "II. The operation 7 plus 10 will result in an overflow error.\n",
    "\n",
    "III. The operation 12 plus 3 will result in an overflow error.\n",
    "\n",
    "![alt text](</Users/saitalisetty/vscode/student/Screenshot 2023-11-05 at 6.41.36 PM.png>)\n",
    "Skill Needed to Practice 1.D\n",
    "Videos to Watch:\n",
    "2.1: Daily Video 1\n",
    "2.1: Daily Video 2\n",
    "2.1: Daily Video 3"
   ]
  }
 ],
 "metadata": {
  "language_info": {
   "name": "python"
  },
  "orig_nbformat": 4
 },
 "nbformat": 4,
 "nbformat_minor": 2
}
