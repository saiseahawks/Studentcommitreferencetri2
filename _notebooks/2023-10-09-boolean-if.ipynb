{
 "cells": [
  {
   "cell_type": "markdown",
   "metadata": {},
   "source": [
    "---\n",
    "toc: True\n",
    "comments: True\n",
    "layout: post\n",
    "title: Boolean, If Lesson\n",
    "description: Team LEIA\n",
    "type: hacks\n",
    "courses: { compsci: {week: 8} }\n",
    "---"
   ]
  },
  {
   "cell_type": "markdown",
   "metadata": {},
   "source": [
    "# Boolean\n",
    "\n",
    "- A Boolean value is either true or false.\n",
    "- A Boolean expression produces a Boolean value (true or false) when evaluated."
   ]
  },
  {
   "cell_type": "markdown",
   "metadata": {},
   "source": [
    "## <mark>Conditional (\"if\") statements</mark>\n",
    "\n",
    "- Affect the sequential flow of control by executing different statements based on the value of a Boolean expression."
   ]
  },
  {
   "cell_type": "code",
   "execution_count": null,
   "metadata": {
    "vscode": {
     "languageId": "html"
    }
   },
   "outputs": [],
   "source": [
    "IF (condition)\n",
    "{\n",
    "\t<block of statements>\n",
    "}\n",
    "\n",
    "The code in <block of statements> is executed if the Boolean expression condition evaluates to true; no action is taken if condition evaluates to false.\n",
    "\n",
    "IF (condition)\n",
    "{\n",
    "\t<block of statements>\n",
    "}\n",
    "ELSE\n",
    "{\n",
    "\t<second block of statements>\n",
    "}\n",
    "\n",
    "The code in the first <block of statements> is executed if the Boolean expression condition evaluates to true; otherwise, the code in <second block of statements> is executed."
   ]
  },
  {
   "cell_type": "markdown",
   "metadata": {},
   "source": [
    "<b>Example:</b> Calculate the sum of 2 numbers. If the sum is greater than 10, display 10; otherwise, display the sum."
   ]
  },
  {
   "cell_type": "code",
   "execution_count": null,
   "metadata": {
    "vscode": {
     "languageId": "html"
    }
   },
   "outputs": [],
   "source": [
    "num1 = INPUT\n",
    "num2 = INPUT\n",
    "sum = num1 + num2\n",
    "IF (sum > 10)\n",
    "{\n",
    "\tDISPLAY (10)\n",
    "}\n",
    "ELSE\n",
    "{\n",
    "\tDISPLAY (sum)\n",
    "}"
   ]
  },
  {
   "cell_type": "markdown",
   "metadata": {},
   "source": [
    "# Hack 1\n",
    "\n",
    "- Add a variable that represents an age.\n",
    "\n",
    "- Add an 'if' and 'print' function that says \"You are an adult\" if your age is greater than or equal to 18.\n",
    "\n",
    "- Make a function that prints \"You are a minor\" with the else function."
   ]
  },
  {
   "cell_type": "code",
   "execution_count": 1,
   "metadata": {},
   "outputs": [
    {
     "name": "stdout",
     "output_type": "stream",
     "text": [
      "You are an adult\n"
     ]
    }
   ],
   "source": [
    "## YOUR CODE HERE\n",
    "age = int(input(\"Enter your age\"))\n",
    "if age>=18:\n",
    "    print(\"You are an adult\")\n",
    "else:\n",
    "    print(\"You are a minor\")"
   ]
  },
  {
   "cell_type": "markdown",
   "metadata": {},
   "source": [
    "## <mark><b>Relational operators:</b></mark> \n",
    "- Used to test the relationship between 2 variables, expressions, or values. These relational operators are used for comparisons and they evaluate to a Boolean value (true or false).\n",
    "\n",
    "<b>Ex.</b> a == b evaluates to true if a and b are equal, otherwise evaluates to false\n",
    "\n",
    "- a == b (equals)\t\n",
    "- a != b (not equal to)\n",
    "- a > b (greater than)\n",
    "- a < b (less than)\n",
    "- a >= b (greater than or equal to)\n",
    "- a <= b (less than or equal to)"
   ]
  },
  {
   "cell_type": "markdown",
   "metadata": {},
   "source": [
    "<b>Example:</b> The legal age to work in California is 14 years old. How would we write a Boolean expression to check if someone is at least 14 years old?\n",
    "\n",
    "age >= 14"
   ]
  },
  {
   "cell_type": "markdown",
   "metadata": {},
   "source": [
    "<b>Example:</b> Write a Boolean expression to check if the average of height1, height2, and height3 is at least 65 inches.\n",
    "\n",
    "(height1 + height2 + height3) / 3 >= 65"
   ]
  },
  {
   "cell_type": "markdown",
   "metadata": {},
   "source": [
    "# Hack 2\n",
    "\n",
    "- Make a variable called 'is_raining' and set it to 'True\".\n",
    "\n",
    "- Make an if statement that prints \"Bring an umbrella!\" if it is true\n",
    "\n",
    "- Make an else statement that says \"The weather is clear\"."
   ]
  },
  {
   "cell_type": "code",
   "execution_count": 2,
   "metadata": {},
   "outputs": [
    {
     "name": "stdout",
     "output_type": "stream",
     "text": [
      "Bring and umbrella!\n"
     ]
    }
   ],
   "source": [
    "## YOUR CODE HERE\n",
    "is_raining = True\n",
    "if is_raining ==True:\n",
    "    print(\"Bring and umbrella!\")\n",
    "else:\n",
    "    print(\"The weather is clear\")"
   ]
  },
  {
   "cell_type": "markdown",
   "metadata": {},
   "source": [
    "## <mark><b>Logical operators:</b></mark>\n",
    "Used to evaluate multiple conditions to produce a single Boolean value.\n",
    "\n",
    "- <b>NOT</b>\tevaluates to true if condition is false, otherwise evaluates to false\n",
    "- <b>AND</b>\tevaluates to true if both conditions are true, otherwise evaluates to false\n",
    "- <b>OR</b>\tevaluates to true if either condition is true or if both conditions are true, otherwise evaluates to false"
   ]
  },
  {
   "cell_type": "markdown",
   "metadata": {},
   "source": [
    "<b>Example:</b> You win the game if you score at least 10 points and have 5 lives left or if you score at least 50 points and have more than 0 lives left. Write the Boolean expression for this scenario.\n",
    "\n",
    "(score >= 10 AND lives == 5) OR (score == 50 AND lives > 0)"
   ]
  },
  {
   "cell_type": "markdown",
   "metadata": {},
   "source": [
    "## <mark><b>Relational and logical operators:</b></mark>\n",
    "\n",
    "<b>Example:</b> These expressions are all different but will produce the same result.\n",
    "\n",
    "- age >= 16\n",
    "- age > 16 OR age == 16\n",
    "- NOT age < 16"
   ]
  },
  {
   "cell_type": "markdown",
   "metadata": {},
   "source": [
    "# Hack 3\n",
    "\n",
    "- Make a function to randomize numbers between 0 and 100 to be assigned to variables a and b using random.randint\n",
    "\n",
    "- Print the values of the variables\n",
    "\n",
    "- Print the relationship of the variables; a is more than, same as, or less than b"
   ]
  },
  {
   "cell_type": "code",
   "execution_count": 12,
   "metadata": {},
   "outputs": [
    {
     "name": "stdout",
     "output_type": "stream",
     "text": [
      "66\n",
      "67\n",
      "a is less than b\n"
     ]
    }
   ],
   "source": [
    "## YOUR CODE HERE\n",
    "from random import randint\n",
    "a = randint(1,100)\n",
    "b = randint(1, 100)\n",
    "print(a)\n",
    "print(b)\n",
    "if(a>b):\n",
    "    print(\"a is more than b\");\n",
    "elif(a==b):\n",
    "    print(\"a is the same as b\")\n",
    "elif(a<b):\n",
    "    print(\"a is less than b\")"
   ]
  },
  {
   "cell_type": "markdown",
   "metadata": {},
   "source": [
    "## <b>Homework</b>\n",
    "\n",
    "### Criteria for above 90%:\n",
    "- Add more questions relating to Boolean rather than only one per topic (ideas: expand on conditional statements, relational/logical operators)\n",
    "- Add a way to organize the user scores (possibly some kind of leaderboard, keep track of high score vs. current score, etc. Get creative!)\n",
    "- Remember to test your code to make sure it functions correctly."
   ]
  },
  {
   "cell_type": "code",
   "execution_count": 13,
   "metadata": {},
   "outputs": [
    {
     "name": "stdout",
     "output_type": "stream",
     "text": [
      "Hello, Sai running /Users/saitalisetty/vscode/student/.conda/bin/python\n",
      "You will be asked 5 questions.\n",
      "Question: What is the result of True AND False?\n",
      "Incorrect!\n",
      "Question: What will be the output of (True OR False) AND True?\n",
      "Correct!\n",
      "Question: What is the purpose of an if-else statement?\n",
      "Incorrect!\n",
      "Question: Provide an example of a relational operator.\n",
      "Correct!\n",
      "Question: How is the result of NOT True?\n",
      "Correct!\n",
      "Sai, you scored 3/5 (60.0%)\n",
      "\n",
      "Leaderboard:\n",
      "1. Bob: 5/5\n",
      "2. Alice: 4/5\n",
      "3. Charlie: 3/5\n",
      "4. Sai: 3/5\n",
      "5. David: 2/5\n"
     ]
    }
   ],
   "source": [
    "# Import necessary modules\n",
    "import sys  # Module to access system-related information\n",
    "\n",
    "# Function to ask a question and get a response\n",
    "def question_with_response(prompt, answer):\n",
    "    # Print the question\n",
    "    print(\"Question: \" + prompt)\n",
    "    # Get user input as the response\n",
    "    msg = input()\n",
    "    if msg.lower() == answer.lower():\n",
    "        return True\n",
    "    return False\n",
    "\n",
    "# Define questions and answers\n",
    "questions = [\n",
    "    # Question 1: Boolean Basics\n",
    "    (\"What is the result of True AND False?\", \"False\"),\n",
    "    # Question 2: Boolean Expressions\n",
    "    (\"What will be the output of (True OR False) AND True?\", \"True\"),\n",
    "    # Question 3: Conditional Statements\n",
    "    (\"What is the purpose of an if-else statement?\", \"Control program flow based on conditions\"),\n",
    "    # Question 4: Relational Operators\n",
    "    (\"Provide an example of a relational operator.\", \"Greater than (>)\"),\n",
    "    # Question 5: Logical Operators\n",
    "    (\"How is the result of NOT True?\", \"False\")\n",
    "]\n",
    "\n",
    "# Personalized greeting message\n",
    "# Collect the student's name\n",
    "user_name = input(\"Enter your name: \")\n",
    "print('Hello, ' + user_name + \" running \" + sys.executable)\n",
    "print(\"You will be asked \" + str(len(questions)) + \" questions.\")\n",
    "answer = input(\"Are you ready to take a test? (yes/no) \")\n",
    "\n",
    "if answer.lower() != \"yes\":\n",
    "    print(\"Okay, goodbye!\")\n",
    "    sys.exit()\n",
    "\n",
    "# Initialize the correct answers counter\n",
    "correct = 0\n",
    "\n",
    "# Ask questions and calculate the score\n",
    "for prompt, answer in questions:\n",
    "    if question_with_response(prompt, answer):\n",
    "        print(\"Correct!\")\n",
    "        correct += 1\n",
    "    else:\n",
    "        print(\"Incorrect!\")\n",
    "\n",
    "# Display the final score\n",
    "total_questions = len(questions)\n",
    "percentage_correct = (correct / total_questions) * 100\n",
    "print(user_name + \", you scored \" + str(correct) + \"/\" + str(total_questions) + \" (\" + str(percentage_correct) + \"%)\")\n",
    "\n",
    "# Organize and display leaderboard (dummy data for illustration)\n",
    "leaderboard = {\n",
    "    \"Alice\": 4,\n",
    "    \"Bob\": 5,\n",
    "    \"Charlie\": 3,\n",
    "    \"David\": 2,\n",
    "    user_name: correct\n",
    "}\n",
    "\n",
    "sorted_leaderboard = sorted(leaderboard.items(), key=lambda x: x[1], reverse=True)\n",
    "print(\"\\nLeaderboard:\")\n",
    "for idx, (name, score) in enumerate(sorted_leaderboard):\n",
    "    print(f\"{idx + 1}. {name}: {score}/{total_questions}\")"
   ]
  }
 ],
 "metadata": {
  "kernelspec": {
   "display_name": "Python 3",
   "language": "python",
   "name": "python3"
  },
  "language_info": {
   "codemirror_mode": {
    "name": "ipython",
    "version": 3
   },
   "file_extension": ".py",
   "mimetype": "text/x-python",
   "name": "python",
   "nbconvert_exporter": "python",
   "pygments_lexer": "ipython3",
   "version": "3.11.4"
  }
 },
 "nbformat": 4,
 "nbformat_minor": 2
}
