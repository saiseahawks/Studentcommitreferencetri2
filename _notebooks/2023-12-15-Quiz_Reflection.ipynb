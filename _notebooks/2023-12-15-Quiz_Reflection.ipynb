{
 "cells": [
  {
   "cell_type": "markdown",
   "metadata": {},
   "source": [
    "---\n",
    "toc: true\n",
    "comments: true\n",
    "layout: post\n",
    "title: College Board MCQ\n",
    "description: Review of MCQ 12/22\n",
    "type: tangibles\n",
    "courses: { compsci: {week: 17} }\n",
    "---"
   ]
  },
  {
   "cell_type": "markdown",
   "metadata": {},
   "source": [
    "SCORE : 64/67\n",
    "Questions Wrong: #30, #62, #65\n",
    "\n",
    "        - 30  \n",
    "                Question Answer:\n",
    "![image](/Users/saitalisetty/vscode/student/_site/Screenshot 2024-01-08 at 10.36.04 PM.png)\n",
    "\n",
    "                What I will review:\n",
    "        - 62\n",
    "                What I did wrong:\n",
    "                What I will review:\n",
    "        - 65    \n",
    "                What I did wrong:\n",
    "                What I will review:    "
   ]
  }
 ],
 "metadata": {
  "kernelspec": {
   "display_name": "Python 3",
   "language": "python",
   "name": "python3"
  },
  "language_info": {
   "name": "python",
   "version": "3.10.12"
  }
 },
 "nbformat": 4,
 "nbformat_minor": 2
}
