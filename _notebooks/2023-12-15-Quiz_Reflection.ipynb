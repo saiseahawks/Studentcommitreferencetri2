{
 "cells": [
  {
   "cell_type": "markdown",
   "metadata": {},
   "source": [
    "---\n",
    "toc: true\n",
    "comments: true\n",
    "layout: post\n",
    "title: College Board MCQ\n",
    "description: Review of MCQ 12/22\n",
    "type: tangibles\n",
    "courses: { compsci: {week: 17} }\n",
    "---"
   ]
  },
  {
   "cell_type": "markdown",
   "metadata": {},
   "source": [
    "SCORE : 64/67\n",
    "Questions Wrong: #30, #62, #65\n",
    "\n",
    "        - 30  \n",
    "                Question Answer:\n",
    "![image](/Users/saitalisetty/vscode/student/_site/Screenshot 2024-01-08 at 10.36.04 PM.png)\n",
    "\n",
    "                Explanation: Answer C. Incorrect. For example, if n is initially 5, then the first IF condition will be true and n will be incremented by 1. The next IF condition will also be true because n is at least 1. The next IF condition will be false because n is less than 30. The next IF condition will be false because n is less than 10. Therefore, \"too low\" will be displayed.\n",
    "        - 62\n",
    "                Question Answer:\n",
    "![image](/Users/saitalisetty/vscode/student/_site/Screenshot 2024-01-08 at 10.41.19 PM.png)\n",
    "\n",
    "                Explanation: I was supposed answer two answers not just one. I need to read the directions and pay attention.\n",
    "        - 65    \n",
    "                Question Answer:\n",
    "\n",
    "![image](/Users/saitalisetty/vscode/student/_site/Screenshot 2024-01-08 at 10.44.27 PM.png)\n",
    "                \n",
    "                Explanation: I was supposed answer two answers not just one. I need to read the directions and pay attention."
   ]
  }
 ],
 "metadata": {
  "kernelspec": {
   "display_name": "Python 3",
   "language": "python",
   "name": "python3"
  },
  "language_info": {
   "name": "python",
   "version": "3.10.12"
  }
 },
 "nbformat": 4,
 "nbformat_minor": 2
}
